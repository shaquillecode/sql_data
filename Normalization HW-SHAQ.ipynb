{
 "cells": [
  {
   "cell_type": "markdown",
   "metadata": {},
   "source": [
    "<h1>Instructions</h1>\n",
    "Normalize the following block of data by copying the data below, except the triple quotes, <br>\n",
    "and placing the data in a file called employee_data.csv<br>\n",
    "1 - Import the file using core python<br>\n",
    "2 - Normalize the data and separate into component tables<br>\n",
    "3 - Use SQL to create the tables and populate them<br>\n",
    "4 - Answer the following questions using SQL<br>\n",
    "- Provide a count of the employees by gender<br>\n",
    "- Provide a count of the employees by dept name<br>\n",
    "- Provide a list of employees in last name, first name order<br>\n",
    "- Provide a list of employees in tenure order (active employees only) in descending order<br>\n",
    "- Provide a list of employees by manager name in alphabetical order by last name<br>\n",
    "- Provide a list of employees by region<br>\n",
    "- Provide a list of employees who have exceeded their allotment of sick days<br>"
   ]
  },
  {
   "cell_type": "code",
   "execution_count": 1,
   "metadata": {},
   "outputs": [
    {
     "data": {
      "text/plain": [
       "\"\\n'emp_id','marital_status','last_name','first_name','hire_date','gender','dept_id','dept_name','manager_id','status','term_date','region','sick_days_accumulated','sick_day1','sick_day2','sick_day3'\\n'001','Married','Ellis','Francis','2005/02/12','Male','HR','Human Resources','037','EXEMPT','','NORTH EAST','5','','',''\\n'002','Divorced','Jones','Pamala','2003/03/10','Female','IT','Information Technology','037','EXEMPT','','NORTH EAST','5','','',''\\n'003','Widowed','Davidson','Fred','2003/01/11','Male','FIN','Finance','037','EXEMPT','','NORTH EAST','5','','',''\\n'004','Single','Rivera','Jewels','2013/10/02','Female','ACC','Accounting','019','NON-EXEMPT','','NORTH EAST','5','','',''\\n'005','Single','Sing','Hu','2019/12/30','Male','WHS','Warehouse','030','NON-EXEMPT','','NORTH EAST','2','2021/02/01','2021/02/02',''\\n'006','Single','Ramos','Diego','2015/06/16','Male','IT','Information Technology','002','EXEMPT','','NORTH EAST','2','','',''\\n'007','Single','Sanchez','Jorge','2015/08/02','Male','IT','Information Technology','002','EXEMPT','2020/03/12','NORTH EAST','0','','',''\\n'008','Single','Yee','Sue','2019/03/12','Female','HR','Human Resources','001','NON-EXEMPT','','NORTH EAST','2','','',''\\n'009','Single','Williams','William','2011/05/28','Male','FIN','Finance','003','EXEMPT','','SOUTH WEST','5','','',''\\n'010','Married','Davis','Elizabeth','2016/09/13','Female','FIN','Finance','003','EXEMPT','','SOUTH WEST','5','2021/01/02','',''\\n'011','Married','Freach','Greta','2009/05/03','Female','ACC','Accounting','019','EXEMPT','','SOUTH WEST','5','','',''\\n'012','Married','Gantt','Jackson','2015/06/12','Male','ACC','Accounting','019','EXEMPT','','SOUTH WEST','5','','',''\\n'013','Married','Jarvis','Melvin','2019/03/30','Male','FIN','Finance','003','EXEMPT','','SOUTH WEST','5','','',''\\n'014','Married','Tate','Rachael','2016/05/03','Female','HR','Human Resources','001','EXEMPT','','SOUTH WEST','5','','',''\\n'015','Married','Sung','Henry','2014/08/20','Male','IT','Information Technology','002','EXEMPT','','SOUTH WEST','5','2021/01/24','2021/01/25',''\\n'016','Married','Davidson','Wilma','2018/03/18','Female','ACC','Accounting','037','EXEMPT','','SOUTH WEST','5','','',''\\n'017','Married','Williamson','Ursula','2008/01/19','Female','HR','Human Resources','001','NON-EXEMPT','','WEST','2','','',''\\n'018','Divorced','French','Sara','2015/10/29','Female','HR','Human Resources','001','NON-EXEMPT','','WEST','2','','',''\\n'019','Divorced','Xi','Yu','2017/04/24','Female','ACC','Accounting','037','EXEMPT','','WEST','5','','',''\\n'020','Divorced','Quinones','Maribel','2015/05/25','Female','FIN','Finance','003','EXEMPT','','WEST','5','','',''\\n'021','Single','Breen','Margret','2018/03/01','Female','WHS','Warehouse','030','EXEMPT','','EAST','5','','',''\\n'022','Single','Pollard','Franz','2007/07/29','Male','IT','Information Technology','002','EXEMPT','','EAST','5','','',''\\n'023','Single','Keller','Bradley','2011/04/30','Male','IT','Information Technology','002','EXEMPT','','EAST','5','','',''\\n'024','Single','Opus','Oliver','2014/07/12','Male','WHS','Warehouse','030','NON-EXEMPT','','EAST','2','2021/01/12','',''\\n'025','Single','Nulland','Nicholas','2010/06/10','Male','FIN','Finance','003','EXEMPT','','EAST','5','','',''\\n'026','Single','Lee','Tatum','2016/11/15','Male','WHS','Warehouse','030','NON-EXEMPT','','NORTH WEST','5','','',''\\n'027','Single','Saunders','Asia','2016/02/18','Female','FIN','Finance','003','EXEMPT','','NORTH WEST','5','','',''\\n'028','Single','Ute','Ulsula','2008/03/11','Female','HR','Human Resources','001','NON-EXEMPT','','NORTH WEST','2','','',''\\n'029','Single','Jackson','Jessica','2018/06/02','Female','WHS','Warehouse','030','NON-EXEMPT','2020/04/21','NORTH WEST','0','','',''\\n'030','Widowed','Forrest','Peter','2010/04/03','Male','WHS','Warehouse','037','NON-EXEMPT','','SOUTH EAST','5','','',''\\n'031','Widowed','Lagos','Leeland','2017/03/30','Male','IT','Information Technology','002','EXEMPT','','SOUTH EAST','2','','',''\\n'032','Widowed','Holland','Henry','2011/04/02','Male','IT','Information Technology','002','EXEMPT','','SOUTH EAST','5','','',''\\n'033','Married','Martinez','Margarita','2017/05/26','Female','ACC','Accounting','019','NON-EXEMPT','','SOUTH EAST','2','2021/02/10','2021/02/11','2021/02/12\\n'034','Married','Jones','Jessica','2013/03/19','Female','WHS','Warehouse','030','NON-EXEMPT','','SOUTH EAST','2','','',''\\n'035','Married','Torrez','Lea','2019/05/11','Female','IT','Information Technology','002','EXEMPT','','SOUTH EAST','5','','',''\\n'036','Married','Regis','Lucy','2014/06/20','Female','ACC','Accounting','019','EXEMPT','','SOUTH EAST','14','','',''\\n'037','Married','Saulzman','Randle','2001/03/20','Male','EX','Executive','037','EXEMPT','','EAST','25','','',''\\n\\n\""
      ]
     },
     "execution_count": 1,
     "metadata": {},
     "output_type": "execute_result"
    }
   ],
   "source": [
    "data = '''\n",
    "'emp_id','marital_status','last_name','first_name','hire_date','gender','dept_id','dept_name','manager_id','status','term_date','region','sick_days_accumulated','sick_day1','sick_day2','sick_day3'\n",
    "'001','Married','Ellis','Francis','2005/02/12','Male','HR','Human Resources','037','EXEMPT','','NORTH EAST','5','','',''\n",
    "'002','Divorced','Jones','Pamala','2003/03/10','Female','IT','Information Technology','037','EXEMPT','','NORTH EAST','5','','',''\n",
    "'003','Widowed','Davidson','Fred','2003/01/11','Male','FIN','Finance','037','EXEMPT','','NORTH EAST','5','','',''\n",
    "'004','Single','Rivera','Jewels','2013/10/02','Female','ACC','Accounting','019','NON-EXEMPT','','NORTH EAST','5','','',''\n",
    "'005','Single','Sing','Hu','2019/12/30','Male','WHS','Warehouse','030','NON-EXEMPT','','NORTH EAST','2','2021/02/01','2021/02/02',''\n",
    "'006','Single','Ramos','Diego','2015/06/16','Male','IT','Information Technology','002','EXEMPT','','NORTH EAST','2','','',''\n",
    "'007','Single','Sanchez','Jorge','2015/08/02','Male','IT','Information Technology','002','EXEMPT','2020/03/12','NORTH EAST','0','','',''\n",
    "'008','Single','Yee','Sue','2019/03/12','Female','HR','Human Resources','001','NON-EXEMPT','','NORTH EAST','2','','',''\n",
    "'009','Single','Williams','William','2011/05/28','Male','FIN','Finance','003','EXEMPT','','SOUTH WEST','5','','',''\n",
    "'010','Married','Davis','Elizabeth','2016/09/13','Female','FIN','Finance','003','EXEMPT','','SOUTH WEST','5','2021/01/02','',''\n",
    "'011','Married','Freach','Greta','2009/05/03','Female','ACC','Accounting','019','EXEMPT','','SOUTH WEST','5','','',''\n",
    "'012','Married','Gantt','Jackson','2015/06/12','Male','ACC','Accounting','019','EXEMPT','','SOUTH WEST','5','','',''\n",
    "'013','Married','Jarvis','Melvin','2019/03/30','Male','FIN','Finance','003','EXEMPT','','SOUTH WEST','5','','',''\n",
    "'014','Married','Tate','Rachael','2016/05/03','Female','HR','Human Resources','001','EXEMPT','','SOUTH WEST','5','','',''\n",
    "'015','Married','Sung','Henry','2014/08/20','Male','IT','Information Technology','002','EXEMPT','','SOUTH WEST','5','2021/01/24','2021/01/25',''\n",
    "'016','Married','Davidson','Wilma','2018/03/18','Female','ACC','Accounting','037','EXEMPT','','SOUTH WEST','5','','',''\n",
    "'017','Married','Williamson','Ursula','2008/01/19','Female','HR','Human Resources','001','NON-EXEMPT','','WEST','2','','',''\n",
    "'018','Divorced','French','Sara','2015/10/29','Female','HR','Human Resources','001','NON-EXEMPT','','WEST','2','','',''\n",
    "'019','Divorced','Xi','Yu','2017/04/24','Female','ACC','Accounting','037','EXEMPT','','WEST','5','','',''\n",
    "'020','Divorced','Quinones','Maribel','2015/05/25','Female','FIN','Finance','003','EXEMPT','','WEST','5','','',''\n",
    "'021','Single','Breen','Margret','2018/03/01','Female','WHS','Warehouse','030','EXEMPT','','EAST','5','','',''\n",
    "'022','Single','Pollard','Franz','2007/07/29','Male','IT','Information Technology','002','EXEMPT','','EAST','5','','',''\n",
    "'023','Single','Keller','Bradley','2011/04/30','Male','IT','Information Technology','002','EXEMPT','','EAST','5','','',''\n",
    "'024','Single','Opus','Oliver','2014/07/12','Male','WHS','Warehouse','030','NON-EXEMPT','','EAST','2','2021/01/12','',''\n",
    "'025','Single','Nulland','Nicholas','2010/06/10','Male','FIN','Finance','003','EXEMPT','','EAST','5','','',''\n",
    "'026','Single','Lee','Tatum','2016/11/15','Male','WHS','Warehouse','030','NON-EXEMPT','','NORTH WEST','5','','',''\n",
    "'027','Single','Saunders','Asia','2016/02/18','Female','FIN','Finance','003','EXEMPT','','NORTH WEST','5','','',''\n",
    "'028','Single','Ute','Ulsula','2008/03/11','Female','HR','Human Resources','001','NON-EXEMPT','','NORTH WEST','2','','',''\n",
    "'029','Single','Jackson','Jessica','2018/06/02','Female','WHS','Warehouse','030','NON-EXEMPT','2020/04/21','NORTH WEST','0','','',''\n",
    "'030','Widowed','Forrest','Peter','2010/04/03','Male','WHS','Warehouse','037','NON-EXEMPT','','SOUTH EAST','5','','',''\n",
    "'031','Widowed','Lagos','Leeland','2017/03/30','Male','IT','Information Technology','002','EXEMPT','','SOUTH EAST','2','','',''\n",
    "'032','Widowed','Holland','Henry','2011/04/02','Male','IT','Information Technology','002','EXEMPT','','SOUTH EAST','5','','',''\n",
    "'033','Married','Martinez','Margarita','2017/05/26','Female','ACC','Accounting','019','NON-EXEMPT','','SOUTH EAST','2','2021/02/10','2021/02/11','2021/02/12\n",
    "'034','Married','Jones','Jessica','2013/03/19','Female','WHS','Warehouse','030','NON-EXEMPT','','SOUTH EAST','2','','',''\n",
    "'035','Married','Torrez','Lea','2019/05/11','Female','IT','Information Technology','002','EXEMPT','','SOUTH EAST','5','','',''\n",
    "'036','Married','Regis','Lucy','2014/06/20','Female','ACC','Accounting','019','EXEMPT','','SOUTH EAST','14','','',''\n",
    "'037','Married','Saulzman','Randle','2001/03/20','Male','EX','Executive','037','EXEMPT','','EAST','25','','',''\n",
    "\n",
    "'''"
   ]
  },
  {
   "cell_type": "code",
   "execution_count": null,
   "metadata": {},
   "outputs": [],
   "source": []
  }
 ],
 "metadata": {
  "kernelspec": {
   "display_name": "Python 3",
   "language": "python",
   "name": "python3"
  },
  "language_info": {
   "codemirror_mode": {
    "name": "ipython",
    "version": 3
   },
   "file_extension": ".py",
   "mimetype": "text/x-python",
   "name": "python",
   "nbconvert_exporter": "python",
   "pygments_lexer": "ipython3",
   "version": "3.9.5"
  }
 },
 "nbformat": 4,
 "nbformat_minor": 4
}
